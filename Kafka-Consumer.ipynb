{
 "cells": [
  {
   "cell_type": "code",
   "execution_count": 7,
   "id": "a022f720",
   "metadata": {},
   "outputs": [
    {
     "name": "stdout",
     "output_type": "stream",
     "text": [
      "Collecting s3fs\n",
      "  Downloading s3fs-2024.6.1-py3-none-any.whl.metadata (1.6 kB)\n",
      "Collecting aiobotocore<3.0.0,>=2.5.4 (from s3fs)\n",
      "  Downloading aiobotocore-2.13.1-py3-none-any.whl.metadata (22 kB)\n",
      "Collecting fsspec==2024.6.1.* (from s3fs)\n",
      "  Downloading fsspec-2024.6.1-py3-none-any.whl.metadata (11 kB)\n",
      "Collecting aiohttp!=4.0.0a0,!=4.0.0a1 (from s3fs)\n",
      "  Downloading aiohttp-3.10.0-cp310-cp310-win_amd64.whl.metadata (7.8 kB)\n",
      "Collecting botocore<1.34.132,>=1.34.70 (from aiobotocore<3.0.0,>=2.5.4->s3fs)\n",
      "  Downloading botocore-1.34.131-py3-none-any.whl.metadata (5.7 kB)\n",
      "Requirement already satisfied: wrapt<2.0.0,>=1.10.10 in c:\\users\\hp\\appdata\\local\\programs\\python\\python310\\lib\\site-packages (from aiobotocore<3.0.0,>=2.5.4->s3fs) (1.14.0)\n",
      "Collecting aioitertools<1.0.0,>=0.5.1 (from aiobotocore<3.0.0,>=2.5.4->s3fs)\n",
      "  Downloading aioitertools-0.11.0-py3-none-any.whl.metadata (3.3 kB)\n",
      "Collecting aiohappyeyeballs>=2.3.0 (from aiohttp!=4.0.0a0,!=4.0.0a1->s3fs)\n",
      "  Downloading aiohappyeyeballs-2.3.4-py3-none-any.whl.metadata (5.6 kB)\n",
      "Collecting aiosignal>=1.1.2 (from aiohttp!=4.0.0a0,!=4.0.0a1->s3fs)\n",
      "  Downloading aiosignal-1.3.1-py3-none-any.whl.metadata (4.0 kB)\n",
      "Requirement already satisfied: attrs>=17.3.0 in c:\\users\\hp\\appdata\\local\\programs\\python\\python310\\lib\\site-packages (from aiohttp!=4.0.0a0,!=4.0.0a1->s3fs) (21.4.0)\n",
      "Collecting frozenlist>=1.1.1 (from aiohttp!=4.0.0a0,!=4.0.0a1->s3fs)\n",
      "  Downloading frozenlist-1.4.1-cp310-cp310-win_amd64.whl.metadata (12 kB)\n",
      "Collecting multidict<7.0,>=4.5 (from aiohttp!=4.0.0a0,!=4.0.0a1->s3fs)\n",
      "  Downloading multidict-6.0.5-cp310-cp310-win_amd64.whl.metadata (4.3 kB)\n",
      "Collecting yarl<2.0,>=1.0 (from aiohttp!=4.0.0a0,!=4.0.0a1->s3fs)\n",
      "  Downloading yarl-1.9.4-cp310-cp310-win_amd64.whl.metadata (32 kB)\n",
      "Collecting async-timeout<5.0,>=4.0 (from aiohttp!=4.0.0a0,!=4.0.0a1->s3fs)\n",
      "  Downloading async_timeout-4.0.3-py3-none-any.whl.metadata (4.2 kB)\n",
      "Collecting jmespath<2.0.0,>=0.7.1 (from botocore<1.34.132,>=1.34.70->aiobotocore<3.0.0,>=2.5.4->s3fs)\n",
      "  Downloading jmespath-1.0.1-py3-none-any.whl.metadata (7.6 kB)\n",
      "Requirement already satisfied: python-dateutil<3.0.0,>=2.1 in c:\\users\\hp\\appdata\\local\\programs\\python\\python310\\lib\\site-packages (from botocore<1.34.132,>=1.34.70->aiobotocore<3.0.0,>=2.5.4->s3fs) (2.8.2)\n",
      "Requirement already satisfied: urllib3!=2.2.0,<3,>=1.25.4 in c:\\users\\hp\\appdata\\local\\programs\\python\\python310\\lib\\site-packages (from botocore<1.34.132,>=1.34.70->aiobotocore<3.0.0,>=2.5.4->s3fs) (1.26.8)\n",
      "Requirement already satisfied: idna>=2.0 in c:\\users\\hp\\appdata\\local\\programs\\python\\python310\\lib\\site-packages (from yarl<2.0,>=1.0->aiohttp!=4.0.0a0,!=4.0.0a1->s3fs) (3.3)\n",
      "Requirement already satisfied: six>=1.5 in c:\\users\\hp\\appdata\\roaming\\python\\python310\\site-packages (from python-dateutil<3.0.0,>=2.1->botocore<1.34.132,>=1.34.70->aiobotocore<3.0.0,>=2.5.4->s3fs) (1.16.0)\n",
      "Downloading s3fs-2024.6.1-py3-none-any.whl (29 kB)\n",
      "Downloading fsspec-2024.6.1-py3-none-any.whl (177 kB)\n",
      "Downloading aiobotocore-2.13.1-py3-none-any.whl (76 kB)\n",
      "Downloading aiohttp-3.10.0-cp310-cp310-win_amd64.whl (375 kB)\n",
      "Downloading aiohappyeyeballs-2.3.4-py3-none-any.whl (12 kB)\n",
      "Downloading aioitertools-0.11.0-py3-none-any.whl (23 kB)\n",
      "Downloading aiosignal-1.3.1-py3-none-any.whl (7.6 kB)\n",
      "Downloading async_timeout-4.0.3-py3-none-any.whl (5.7 kB)\n",
      "Downloading botocore-1.34.131-py3-none-any.whl (12.3 MB)\n",
      "   ---------------------------------------- 12.3/12.3 MB 2.4 MB/s eta 0:00:00\n",
      "Downloading frozenlist-1.4.1-cp310-cp310-win_amd64.whl (50 kB)\n",
      "Downloading multidict-6.0.5-cp310-cp310-win_amd64.whl (28 kB)\n",
      "Downloading yarl-1.9.4-cp310-cp310-win_amd64.whl (76 kB)\n",
      "Downloading jmespath-1.0.1-py3-none-any.whl (20 kB)\n",
      "Installing collected packages: multidict, jmespath, fsspec, frozenlist, async-timeout, aioitertools, aiohappyeyeballs, yarl, botocore, aiosignal, aiohttp, aiobotocore, s3fs\n",
      "Successfully installed aiobotocore-2.13.1 aiohappyeyeballs-2.3.4 aiohttp-3.10.0 aioitertools-0.11.0 aiosignal-1.3.1 async-timeout-4.0.3 botocore-1.34.131 frozenlist-1.4.1 fsspec-2024.6.1 jmespath-1.0.1 multidict-6.0.5 s3fs-2024.6.1 yarl-1.9.4\n"
     ]
    }
   ],
   "source": [
    "!pip install s3fs"
   ]
  },
  {
   "cell_type": "code",
   "execution_count": 1,
   "id": "3e6c7522",
   "metadata": {},
   "outputs": [],
   "source": [
    "from kafka import KafkaConsumer\n",
    "from time import sleep\n",
    "from json import dumps,loads\n",
    "import json\n",
    "from s3fs import S3FileSystem"
   ]
  },
  {
   "cell_type": "code",
   "execution_count": 5,
   "id": "3132e865",
   "metadata": {},
   "outputs": [],
   "source": [
    "consumer = KafkaConsumer('kafkaTopic', \n",
    "                        bootstrap_servers=['54.89.247.219:9092'],\n",
    "                        value_deserializer= lambda x: loads(x.decode('utf-8')))"
   ]
  },
  {
   "cell_type": "code",
   "execution_count": null,
   "id": "7b6288df",
   "metadata": {},
   "outputs": [],
   "source": []
  },
  {
   "cell_type": "code",
   "execution_count": 6,
   "id": "ab284bd9",
   "metadata": {},
   "outputs": [],
   "source": [
    "s3 = S3FileSystem()"
   ]
  },
  {
   "cell_type": "code",
   "execution_count": 7,
   "id": "63183c72",
   "metadata": {},
   "outputs": [
    {
     "name": "stdout",
     "output_type": "stream",
     "text": [
      "Message 0: {'Index': 'N225', 'Date': '2003-04-23', 'Open': 7829.009766, 'High': 7895.600098, 'Low': 7756.75, 'Close': 7793.379883, 'Adj Close': 7793.379883, 'Volume': 51900000.0, 'CloseUSD': 77.93379883}\n",
      "Message 0 written to S3\n",
      "Message 1: {'Index': 'SSMI', 'Date': '2007-06-07', 'Open': 9307.0, 'High': 9319.799805, 'Low': 9138.900391, 'Close': 9152.099609, 'Adj Close': 9152.099609, 'Volume': 88712800.0, 'CloseUSD': 10158.830565990002}\n",
      "Message 1 written to S3\n",
      "Message 2: {'Index': 'N225', 'Date': '1973-09-18', 'Open': 4557.919922, 'High': 4557.919922, 'Low': 4557.919922, 'Close': 4557.919922, 'Adj Close': 4557.919922, 'Volume': 0.0, 'CloseUSD': 45.57919922}\n",
      "Message 2 written to S3\n",
      "Message 3: {'Index': 'SSMI', 'Date': '2014-08-08', 'Open': 8263.280273, 'High': 8282.129883, 'Low': 8183.549805, 'Close': 8274.650391, 'Adj Close': 8274.650391, 'Volume': 62155600.0, 'CloseUSD': 9184.86193401}\n",
      "Message 3 written to S3\n",
      "Message 4: {'Index': 'NSEI', 'Date': '2012-07-31', 'Open': 5214.850098, 'High': 5234.549805, 'Low': 5154.049805, 'Close': 5229.0, 'Adj Close': 5229.0, 'Volume': 0.0, 'CloseUSD': 52.29}\n",
      "Message 4 written to S3\n",
      "Message 5: {'Index': 'GDAXI', 'Date': '1989-08-07', 'Open': 1584.280029, 'High': 1584.280029, 'Low': 1584.280029, 'Close': 1584.280029, 'Adj Close': 1584.280029, 'Volume': 0.0, 'CloseUSD': 1932.82163538}\n",
      "Message 5 written to S3\n",
      "Message 6: {'Index': 'TWII', 'Date': '2002-02-19', 'Open': 6000.609863, 'High': 6000.609863, 'Low': 5857.490234, 'Close': 5861.660156, 'Adj Close': 5861.638184, 'Volume': 0.0, 'CloseUSD': 234.46640624}\n",
      "Message 6 written to S3\n",
      "Message 7: {'Index': 'NYA', 'Date': '2002-08-01', 'Open': 5067.879883, 'High': 5067.879883, 'Low': 5067.879883, 'Close': 5067.879883, 'Adj Close': 5067.879883, 'Volume': 1672200000.0, 'CloseUSD': 5067.879883}\n",
      "Message 7 written to S3\n",
      "Message 8: {'Index': 'IXIC', 'Date': '2003-04-08', 'Open': 1388.530029, 'High': 1392.52002, 'Low': 1376.599976, 'Close': 1382.939941, 'Adj Close': 1382.939941, 'Volume': 1312770000.0, 'CloseUSD': 1382.939941}\n",
      "Message 8 written to S3\n",
      "Message 9: {'Index': 'HSI', 'Date': '1991-09-02', 'Open': 3998.0, 'High': 4032.0, 'Low': 3998.0, 'Close': 4023.0, 'Adj Close': 4023.0, 'Volume': 0.0, 'CloseUSD': 522.99}\n",
      "Message 9 written to S3\n",
      "Message 10: {'Index': '399001.SZ', 'Date': '2019-01-10', 'Open': 7442.700195, 'High': 7491.689941, 'Low': 7415.279785, 'Close': 7428.609863, 'Adj Close': 7428.609863, 'Volume': 87800.0, 'CloseUSD': 1188.57757808}\n",
      "Message 10 written to S3\n"
     ]
    }
   ],
   "source": [
    "for count, message in enumerate(consumer):\n",
    "    print(f\"Message {count}: {message.value}\")  # Debugging line\n",
    "    try:\n",
    "        with s3.open(f\"s3://my-kafka-bucket09/data_analysis{count}.json\", 'w') as file:\n",
    "            json.dump(message.value, file)\n",
    "        print(f\"Message {count} written to S3\")\n",
    "    except Exception as e:\n",
    "        print(f\"Error writing message {count} to S3: {e}\")\n",
    "    if count >= 10:  # Limit to 10 messages for testing\n",
    "        break"
   ]
  },
  {
   "cell_type": "code",
   "execution_count": 14,
   "id": "b23de557",
   "metadata": {},
   "outputs": [
    {
     "name": "stdout",
     "output_type": "stream",
     "text": [
      "yo!\n"
     ]
    }
   ],
   "source": [
    "print(\"yo!\")"
   ]
  },
  {
   "cell_type": "code",
   "execution_count": null,
   "id": "a8f820f8",
   "metadata": {},
   "outputs": [],
   "source": []
  },
  {
   "cell_type": "code",
   "execution_count": null,
   "id": "ef3dd383",
   "metadata": {},
   "outputs": [],
   "source": []
  },
  {
   "cell_type": "code",
   "execution_count": null,
   "id": "b7e3d2c1",
   "metadata": {},
   "outputs": [],
   "source": []
  }
 ],
 "metadata": {
  "kernelspec": {
   "display_name": "Python 3 (ipykernel)",
   "language": "python",
   "name": "python3"
  },
  "language_info": {
   "codemirror_mode": {
    "name": "ipython",
    "version": 3
   },
   "file_extension": ".py",
   "mimetype": "text/x-python",
   "name": "python",
   "nbconvert_exporter": "python",
   "pygments_lexer": "ipython3",
   "version": "3.10.2"
  }
 },
 "nbformat": 4,
 "nbformat_minor": 5
}
